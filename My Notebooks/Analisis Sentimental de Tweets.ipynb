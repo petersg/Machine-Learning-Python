{
 "cells": [
  {
   "cell_type": "code",
   "execution_count": 1,
   "metadata": {},
   "outputs": [],
   "source": [
    "from textblob import TextBlob\n",
    "import tweepy\n",
    "import pandas as pd"
   ]
  },
  {
   "cell_type": "markdown",
   "metadata": {},
   "source": [
    "Credenciales de Tweeter"
   ]
  },
  {
   "cell_type": "code",
   "execution_count": 2,
   "metadata": {},
   "outputs": [],
   "source": [
    "api_key = \"6IGYFfOQL44obWRlKyiWgsmwD\"\n",
    "api_secret_key = \"rgTnY2pIjpR8S7pmTyvfzhvqi0oeppcMQ7HafY2PQeCWYIinWP\"\n",
    "access_token = \"333963809-ux8YUed6BWL1SA7MDCLbqCb1sqOLylHhr1tpde7s\"\n",
    "access_token_secret = \"MgL55vpAKSw7ulQRXtKbz9BGJaHlw1ajGGV56n0nXWQJd\""
   ]
  },
  {
   "cell_type": "code",
   "execution_count": 3,
   "metadata": {},
   "outputs": [],
   "source": [
    "#Declararemos una variable que guarde nuestra autentificacion con ayuda del metodo OAuthHandler de la libreria tweepy\n",
    "auth = tweepy.OAuthHandler(api_key,api_secret_key)"
   ]
  },
  {
   "cell_type": "code",
   "execution_count": 4,
   "metadata": {},
   "outputs": [],
   "source": [
    "#Ahora procederemos a llamar nuestros token de acceso\n",
    "auth.set_access_token(access_token,access_token_secret)"
   ]
  },
  {
   "cell_type": "code",
   "execution_count": 5,
   "metadata": {},
   "outputs": [],
   "source": [
    "# Ahora vamos a crear nuestra variable API que sera donde usaremos nuestra aplicaicion\n",
    "API = tweepy.API(auth)"
   ]
  },
  {
   "cell_type": "code",
   "execution_count": 64,
   "metadata": {},
   "outputs": [],
   "source": [
    "# Ahora vamos a buscar y almacenar tweets para nuestro proposito que tengan que ver con X tema de interes.\n",
    "busqueda = TextBlob(u\"Fast food\")\n",
    "# ESTE FUNCIONA tweets = API.search(busqueda.translate(to=\"en\")))\n",
    "tweets = API.search(busqueda)"
   ]
  },
  {
   "cell_type": "code",
   "execution_count": 67,
   "metadata": {},
   "outputs": [
    {
     "name": "stdout",
     "output_type": "stream",
     "text": [
      "RT @thegooglefact: Basic weight loss tips:\n",
      "• drink more water\n",
      "• adjust your portion sizes\n",
      "• lower your sugar intake\n",
      "• limit carbs to 1x per…\n",
      "Sentiment(polarity=0.25, subjectivity=0.3125)\n",
      "RT @thegooglefact: Fast food restaurants use yellow, red, and orange because those are the colors that stimulate hunger\n",
      "Sentiment(polarity=0.06666666666666667, subjectivity=0.19999999999999998)\n",
      "RT @mryansisland: #hungryjacks &amp;  (Make Me Richer) Jack Cowin  Filthy #Corps fleecing young people for Greed  People need to boycott this d…\n",
      "Sentiment(polarity=-0.35000000000000003, subjectivity=0.7)\n",
      "@HajiMaytham @abdullah_odehh i think it means he would not like to consume food cooked and prepared by the american… https://t.co/nO84oP45R6\n",
      "Sentiment(polarity=0.0, subjectivity=0.0)\n",
      "Ero kung kanus a daghan handa saka mag fast food HAHAHA Anubaaaaaaaa\n",
      "Sentiment(polarity=0.2, subjectivity=0.5)\n",
      "RT @coelhothali: amo essa ideia de que ser magro é ser saudável \n",
      "meus anjo a humanidade está doente comendo várias BOSTA se alimentando de…\n",
      "Sentiment(polarity=0.0, subjectivity=0.0)\n",
      "RT @farahatiqah7: strategy nak bagi rakyat malaysia kurangkan makan fast food😊 https://t.co/UnhWJcImvs\n",
      "Sentiment(polarity=0.2, subjectivity=0.6)\n",
      "She knows you guit your diet. She knows you eat fast food. She knows your clothes are too small. #SmashBros… https://t.co/Y55LBM66V2\n",
      "Sentiment(polarity=-0.024999999999999994, subjectivity=0.5)\n",
      "The closest grocery store is 8 miles away. The closest big-ish city is a 45 minute drive. They have no fast food or… https://t.co/iMxZdsr5R8\n",
      "Sentiment(polarity=-0.1, subjectivity=0.6)\n",
      "This man shouldn’t be able to lead a fast food restaurant, but he’s in charge of our country????  🤦🏼‍♀️🤦🏼‍♀️🤦🏼‍♀️ https://t.co/UHU4dQ9lIV\n",
      "Sentiment(polarity=0.35, subjectivity=0.6125)\n",
      "RT @tesh100: 2 x ANYDAY MULTI ENTRY TICKETS for TASTE OF LONDON @TasteofLondon for sale. Includes:\n",
      "*Fast-track entry \n",
      "*Access to VIP Lounge…\n",
      "Sentiment(polarity=0.0, subjectivity=0.0)\n",
      "Buti pa @Jollibee may delivery dito sa Cubao. Hahaha @McDo_PH wala  ih. Truly Filipino fast food ang Jabeee. Bida a… https://t.co/SKZScM91Y1\n",
      "Sentiment(polarity=0.2, subjectivity=0.5)\n",
      "Day 3: my weight is 64.8. i dont know but it decreases slower, maybe because I ate yesterday and I also ate a very… https://t.co/CGbkIqfuxN\n",
      "Sentiment(polarity=0.0, subjectivity=0.0)\n",
      "RT @indy100: Tom Hanks stopped by a fast food chain to buy lunch for everyone https://t.co/UCpWO5Dtul\n",
      "Sentiment(polarity=0.2, subjectivity=0.6)\n",
      "Pahabol na maligayang pasko sa lahat ng health workers na nakaduty ngayun at sa lahat ng mangagawa/saleslady/cashie… https://t.co/cOsWZ77hwV\n",
      "Sentiment(polarity=0.0, subjectivity=0.0)\n"
     ]
    }
   ],
   "source": [
    "# Bien, ahora vamos a hacer un bucle para visualizar todos estos tweets y analizar cada uno.\n",
    "\n",
    "for tweet in tweets:\n",
    "    print(tweet.text)\n",
    "    analisis = TextBlob(tweet.text)\n",
    "    #print(analisis.translate(to=\"en\")) Funciona pero no muestra el porcentaje bien\n",
    "    print(analisis.sentiment)"
   ]
  },
  {
   "cell_type": "code",
   "execution_count": 65,
   "metadata": {},
   "outputs": [],
   "source": [
    "#Pendiente Exportar DATOS a CSV"
   ]
  },
  {
   "cell_type": "code",
   "execution_count": null,
   "metadata": {},
   "outputs": [],
   "source": []
  }
 ],
 "metadata": {
  "kernelspec": {
   "display_name": "Python 3",
   "language": "python",
   "name": "python3"
  },
  "language_info": {
   "codemirror_mode": {
    "name": "ipython",
    "version": 3
   },
   "file_extension": ".py",
   "mimetype": "text/x-python",
   "name": "python",
   "nbconvert_exporter": "python",
   "pygments_lexer": "ipython3",
   "version": "3.6.5"
  }
 },
 "nbformat": 4,
 "nbformat_minor": 2
}
