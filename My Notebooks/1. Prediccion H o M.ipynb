{
 "cells": [
  {
   "cell_type": "code",
   "execution_count": 1,
   "metadata": {},
   "outputs": [],
   "source": [
    "#Importamos librerias\n",
    "from sklearn import tree"
   ]
  },
  {
   "cell_type": "code",
   "execution_count": 2,
   "metadata": {},
   "outputs": [],
   "source": [
    "#Declaramos variable X con siguientes datos (ALTURA,PESO y TALLA ZAPATO) para crear nuestro dataset"
   ]
  },
  {
   "cell_type": "code",
   "execution_count": 7,
   "metadata": {},
   "outputs": [],
   "source": [
    "X = [[181,80,44],[177,70,43],[160,60,38],[154,54,37],[166,65,40],[190,90,47],[175,64,39],[177,70,40],[159,55,49]]"
   ]
  },
  {
   "cell_type": "code",
   "execution_count": 8,
   "metadata": {},
   "outputs": [
    {
     "data": {
      "text/plain": [
       "[[181, 80, 44],\n",
       " [177, 70, 43],\n",
       " [160, 60, 38],\n",
       " [154, 54, 37],\n",
       " [166, 65, 40],\n",
       " [190, 90, 47],\n",
       " [175, 64, 39],\n",
       " [177, 70, 40],\n",
       " [159, 55, 49]]"
      ]
     },
     "execution_count": 8,
     "metadata": {},
     "output_type": "execute_result"
    }
   ],
   "source": [
    "X"
   ]
  },
  {
   "cell_type": "code",
   "execution_count": 9,
   "metadata": {},
   "outputs": [],
   "source": [
    "# Declaramos variable Y que denomina el genero\n",
    "Y = ['hombre','mujer','mujer','mujer','hombre','mujer','mujer','hombre','hombre']"
   ]
  },
  {
   "cell_type": "code",
   "execution_count": 10,
   "metadata": {},
   "outputs": [
    {
     "data": {
      "text/plain": [
       "['hombre',\n",
       " 'mujer',\n",
       " 'mujer',\n",
       " 'mujer',\n",
       " 'hombre',\n",
       " 'mujer',\n",
       " 'mujer',\n",
       " 'hombre',\n",
       " 'hombre']"
      ]
     },
     "execution_count": 10,
     "metadata": {},
     "output_type": "execute_result"
    }
   ],
   "source": [
    "Y"
   ]
  },
  {
   "cell_type": "code",
   "execution_count": 12,
   "metadata": {},
   "outputs": [],
   "source": [
    "#inicialiamos la clasificaicon\n",
    "clasificacion = tree.DecisionTreeClassifier()\n",
    "#ahora hacemos la parte del 'train'\n",
    "clasificacion = clasificacion.fit(X,Y)\n",
    "#Y ahora ponemos el valor a predecir\n",
    "prediccion = clasificacion.predict([[180,70,40]])"
   ]
  },
  {
   "cell_type": "code",
   "execution_count": 13,
   "metadata": {},
   "outputs": [
    {
     "name": "stdout",
     "output_type": "stream",
     "text": [
      "['hombre']\n"
     ]
    }
   ],
   "source": [
    "# Visualizamos prediccion\n",
    "print(prediccion)"
   ]
  },
  {
   "cell_type": "markdown",
   "metadata": {},
   "source": [
    "Tenemos que tener en cuenta que cuanto mayor sea el data set mejor sera la parte del training y mas certera sera la prediccion"
   ]
  },
  {
   "cell_type": "code",
   "execution_count": null,
   "metadata": {},
   "outputs": [],
   "source": []
  }
 ],
 "metadata": {
  "kernelspec": {
   "display_name": "Python 3",
   "language": "python",
   "name": "python3"
  },
  "language_info": {
   "codemirror_mode": {
    "name": "ipython",
    "version": 3
   },
   "file_extension": ".py",
   "mimetype": "text/x-python",
   "name": "python",
   "nbconvert_exporter": "python",
   "pygments_lexer": "ipython3",
   "version": "3.6.5"
  }
 },
 "nbformat": 4,
 "nbformat_minor": 2
}
