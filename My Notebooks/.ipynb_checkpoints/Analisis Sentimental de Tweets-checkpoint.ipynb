{
 "cells": [
  {
   "cell_type": "code",
   "execution_count": 59,
   "metadata": {},
   "outputs": [],
   "source": [
    "from textblob import TextBlob\n",
    "import tweepy\n",
    "import pandas as pd"
   ]
  },
  {
   "cell_type": "markdown",
   "metadata": {},
   "source": [
    "Credenciales de Tweeter"
   ]
  },
  {
   "cell_type": "code",
   "execution_count": 34,
   "metadata": {},
   "outputs": [],
   "source": [
    "api_key = \"6IGYFfOQL44obWRlKyiWgsmwD\"\n",
    "api_secret_key = \"rgTnY2pIjpR8S7pmTyvfzhvqi0oeppcMQ7HafY2PQeCWYIinWP\"\n",
    "access_token = \"333963809-ux8YUed6BWL1SA7MDCLbqCb1sqOLylHhr1tpde7s\"\n",
    "access_token_secret = \"MgL55vpAKSw7ulQRXtKbz9BGJaHlw1ajGGV56n0nXWQJd\""
   ]
  },
  {
   "cell_type": "code",
   "execution_count": 35,
   "metadata": {},
   "outputs": [],
   "source": [
    "#Declararemos una variable que guarde nuestra autentificacion con ayuda del metodo OAuthHandler de la libreria tweepy\n",
    "auth = tweepy.OAuthHandler(api_key,api_secret_key)"
   ]
  },
  {
   "cell_type": "code",
   "execution_count": 36,
   "metadata": {},
   "outputs": [],
   "source": [
    "#Ahora procederemos a llamar nuestros token de acceso\n",
    "auth.set_access_token(access_token,access_token_secret)"
   ]
  },
  {
   "cell_type": "code",
   "execution_count": 37,
   "metadata": {},
   "outputs": [],
   "source": [
    "# Ahora vamos a crear nuestra variable API que sera donde usaremos nuestra aplicaicion\n",
    "API = tweepy.API(auth)"
   ]
  },
  {
   "cell_type": "code",
   "execution_count": 63,
   "metadata": {},
   "outputs": [
    {
     "data": {
      "text/plain": [
       "TextBlob(\"RT @cristiancrespoj: Jódanse Pablito y Zapaterito! Congreso de España aprueba la propuesta de instar al gobierno de Pedro Sánchez a condena…\")"
      ]
     },
     "execution_count": 63,
     "metadata": {},
     "output_type": "execute_result"
    }
   ],
   "source": [
    "# Ahora vamos a buscar y almacenar tweets para nuestro proposito que tengan que ver con X tema de interes.\n",
    "tweets = API.search(\"Trump\")\n",
    "analisis"
   ]
  },
  {
   "cell_type": "code",
   "execution_count": 64,
   "metadata": {},
   "outputs": [
    {
     "name": "stdout",
     "output_type": "stream",
     "text": [
      "RT @Education4Libs: Fun fact.\n",
      "\n",
      "Trump’s welfare ban on immigrants would save the taxpayers $57.4B.\n",
      "\n",
      "With that money, we could fund the borde…\n",
      "Sentiment(polarity=0.3, subjectivity=0.2)\n",
      "RT @IngrahamAngle: “I must say throughout the time we spent together, I was pleasantly surprised by a warm and personal side to the preside…\n",
      "Sentiment(polarity=0.15, subjectivity=0.47500000000000003)\n",
      "RT @treasonstickers: The stock market lost $1 trillion in October.\n",
      "\n",
      "The US debt increased by $1.3 trillion in 2018.\n",
      "\n",
      "That’s $2.3 trillion o…\n",
      "Sentiment(polarity=0.0, subjectivity=0.0)\n",
      "Campaign tool supplied to UK’s governing party by Trump-Pence app dev quietly taken out of service – TechCrunch… https://t.co/mixXQ3ILhx\n",
      "Sentiment(polarity=0.0, subjectivity=0.3333333333333333)\n",
      "RT @mitchellvii: Was just talking to liberal guy in my building. He said \"Trump is a total racist!\". I said, give me an example, you must h…\n",
      "Sentiment(polarity=0.0, subjectivity=0.75)\n",
      "RT @tribelaw: DANGER! A real president would stop the conflagration this insanity portends. Not Trump. He sees political value in the prosp…\n",
      "Sentiment(polarity=0.1, subjectivity=0.2)\n",
      "RT @ddale8: Trump also introduces a new caravan conspiracy: it's mostly \"young men,\" but they are \"pushing the women right up to the front…\n",
      "Sentiment(polarity=0.174025974025974, subjectivity=0.46341991341991334)\n",
      "RT @HLAurora63: 😂Andrew Gillum really wants Floridians to believe that HE will work WITH President Trump &amp; the GOP. #Rich\n",
      "\n",
      "Gillum is a flat…\n",
      "Sentiment(polarity=0.2875, subjectivity=0.425)\n",
      "Sounds exactly like the Trump-Pence regime. 🤔 https://t.co/1AjTXP08pW\n",
      "Sentiment(polarity=0.25, subjectivity=0.25)\n",
      "RT @JoeNBC: The president has pinned a race-baiting tweet. The president has doubled down on his race-baiting campaign attacks. The preside…\n",
      "Sentiment(polarity=-0.15555555555555559, subjectivity=0.2888888888888889)\n",
      "RT @HLAurora63: Donald Trump Jr. &amp; Kimberly Guilfoyle Release Midterm Ad blasting the lefts version of democracy, in other words... MOBS.…\n",
      "Sentiment(polarity=-0.125, subjectivity=0.375)\n",
      "RT @pdabrosca: 368) December 29, 2016: Ronald Reagan portrait defaced during break-in reported at Goldsboro, NC, GOP office\n",
      "\n",
      "369) December…\n",
      "Sentiment(polarity=0.0, subjectivity=0.0)\n",
      "RT @R_interruptus: Andaba Bolsonaro\n",
      "persiguiendo homosensuales\n",
      "Se le unió Donald Trump\n",
      "y otras frágiles masculinidades\n",
      "\n",
      "La huesuda se dio t…\n",
      "Sentiment(polarity=0.0, subjectivity=0.0)\n",
      "Yeah. Because their liberals. (Aka hypocrites) Yet 90% of American Jews are liberal before being Jewish. They still… https://t.co/FsunrHetja\n",
      "Sentiment(polarity=0.0, subjectivity=0.0)\n",
      "RT @brunosgarzini: El expediente del bloqueo a Cuba, en base al que hoy se vota en la ONU, contrasta con la nula información oficial que ex…\n",
      "Sentiment(polarity=-0.8, subjectivity=1.0)\n"
     ]
    }
   ],
   "source": [
    "# Bien, ahora vamos a hacer un bucle para visualizar todos estos tweets y analizar cada uno.\n",
    "\n",
    "for tweet in tweets:\n",
    "    print(tweet.text)\n",
    "    analisis = TextBlob(tweet.text)\n",
    "    print(analisis.sentiment)"
   ]
  },
  {
   "cell_type": "code",
   "execution_count": 65,
   "metadata": {},
   "outputs": [],
   "source": [
    "#Pendiente Exportar DATOS a CSV"
   ]
  },
  {
   "cell_type": "code",
   "execution_count": null,
   "metadata": {},
   "outputs": [],
   "source": []
  }
 ],
 "metadata": {
  "kernelspec": {
   "display_name": "Python 3",
   "language": "python",
   "name": "python3"
  },
  "language_info": {
   "codemirror_mode": {
    "name": "ipython",
    "version": 3
   },
   "file_extension": ".py",
   "mimetype": "text/x-python",
   "name": "python",
   "nbconvert_exporter": "python",
   "pygments_lexer": "ipython3",
   "version": "3.6.5"
  }
 },
 "nbformat": 4,
 "nbformat_minor": 2
}
