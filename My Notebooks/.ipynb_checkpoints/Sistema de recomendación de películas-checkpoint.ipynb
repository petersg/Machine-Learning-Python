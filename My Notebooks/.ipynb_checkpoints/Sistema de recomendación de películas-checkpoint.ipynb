{
 "cells": [
  {
   "cell_type": "code",
   "execution_count": 7,
   "metadata": {},
   "outputs": [],
   "source": [
    "#importamos librerias\n",
    "import numpy as np\n",
    "#Importamos libreria con peliculas\n",
    "from lightfm.datasets import fetch_movielens\n",
    "from lightfm import LightFM"
   ]
  },
  {
   "cell_type": "code",
   "execution_count": 8,
   "metadata": {},
   "outputs": [
    {
     "name": "stdout",
     "output_type": "stream",
     "text": [
      "<943x1682 sparse matrix of type '<class 'numpy.int32'>'\n",
      "\twith 49906 stored elements in COOrdinate format>\n",
      "<943x1682 sparse matrix of type '<class 'numpy.int32'>'\n",
      "\twith 5469 stored elements in COOrdinate format>\n"
     ]
    }
   ],
   "source": [
    "#Almacenamos las peliculas con valoracion minima de 4\n",
    "data = fetch_movielens(min_rating=4.0)\n",
    "\n",
    "#Preparamos nuestros datos de entrenamiento y los de prueba\n",
    "print(repr(data[\"train\"])) #==> casi 50k registros\n",
    "print(repr(data[\"test\"])) #==> 5.5k un 10% de los datos de entrenamiento"
   ]
  },
  {
   "cell_type": "code",
   "execution_count": 10,
   "metadata": {},
   "outputs": [],
   "source": [
    "#creando modelo\n",
    "modelo = LightFM(loss=\"warp\") #Weighted Approximate Rank Pairwise, \n",
    "                            #crear recomendaciones para el usuario con perfiles similares\n",
    "    "
   ]
  },
  {
   "cell_type": "code",
   "execution_count": 11,
   "metadata": {},
   "outputs": [
    {
     "data": {
      "text/plain": [
       "<lightfm.lightfm.LightFM at 0x2a09325b1d0>"
      ]
     },
     "execution_count": 11,
     "metadata": {},
     "output_type": "execute_result"
    }
   ],
   "source": [
    "#Entrenamos el modelo\n",
    "modelo.fit(data[\"train\"],epochs=30,num_threads=2)"
   ]
  },
  {
   "cell_type": "code",
   "execution_count": 13,
   "metadata": {},
   "outputs": [],
   "source": [
    "def recomendaciones(modelo, data, id_usuarios):\n",
    "    #Usaremos el nusuarios y peliculas para entrenar el modelo\n",
    "    nUsuarios,nPelis = data[\"train\"].shape\n",
    "    \n",
    "    #ahora crearemos una recomendacion por cada usario que pasemos\n",
    "    for id_usuario in id_usuarios:\n",
    "        #usaremos las peliculas que ya les gustan\n",
    "        peliculasQueLesGustan = data[\"item_labels\"][data[\"train\"].tocsr()[id_usuario].indices]\n",
    "        #Predicciones de peliculas que le gustarian\n",
    "        peliculasPrediccion = modelo.predict(id_usuario,np.arange(nPelis))\n",
    "        #Las ordenamos dando prioridad a las que mas le gustarian primero\n",
    "        pelisTop = data['item_labels'][np.argsort(-scores)]\n",
    "        \n",
    "        #vamos a visualizar los datos\n",
    "        print(\"Usuario %s\" % id_usuario) \n",
    "        print(\"Peliculas que le gustan:\")\n",
    "        for i in peliculasQueLesGustan[:3]: #top3\n",
    "            print(\"          %s\" % i)\n",
    "            \n",
    "        print(\"Peliculas Recomendadas:\")\n",
    "        \n",
    "        for i in pelisTop[:3]: #top3\n",
    "            print(\"          %s\" % i)"
   ]
  },
  {
   "cell_type": "code",
   "execution_count": null,
   "metadata": {},
   "outputs": [],
   "source": []
  }
 ],
 "metadata": {
  "kernelspec": {
   "display_name": "Python 3",
   "language": "python",
   "name": "python3"
  },
  "language_info": {
   "codemirror_mode": {
    "name": "ipython",
    "version": 3
   },
   "file_extension": ".py",
   "mimetype": "text/x-python",
   "name": "python",
   "nbconvert_exporter": "python",
   "pygments_lexer": "ipython3",
   "version": "3.6.5"
  }
 },
 "nbformat": 4,
 "nbformat_minor": 2
}
