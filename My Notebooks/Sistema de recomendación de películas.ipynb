{
 "cells": [
  {
   "cell_type": "code",
   "execution_count": 63,
   "metadata": {},
   "outputs": [],
   "source": [
    "#importamos librerias\n",
    "import numpy as np\n",
    "#Importamos libreria con peliculas\n",
    "from lightfm.datasets import fetch_movielens\n",
    "from lightfm import LightFM"
   ]
  },
  {
   "cell_type": "code",
   "execution_count": 64,
   "metadata": {},
   "outputs": [
    {
     "name": "stdout",
     "output_type": "stream",
     "text": [
      "<943x1682 sparse matrix of type '<class 'numpy.int32'>'\n",
      "\twith 49906 stored elements in COOrdinate format>\n",
      "<943x1682 sparse matrix of type '<class 'numpy.int32'>'\n",
      "\twith 5469 stored elements in COOrdinate format>\n"
     ]
    }
   ],
   "source": [
    "#Almacenamos las peliculas con valoracion minima de 4\n",
    "datos = fetch_movielens(min_rating=4.0)\n",
    "\n",
    "#Preparamos nuestros datos de entrenamiento y los de prueba\n",
    "print(repr(datos[\"train\"])) #==> casi 50k registros\n",
    "print(repr(datos[\"test\"])) #==> 5.5k un 10% de los datos de entrenamiento"
   ]
  },
  {
   "cell_type": "code",
   "execution_count": 65,
   "metadata": {},
   "outputs": [],
   "source": [
    "#creando modelo\n",
    "modelo = LightFM(loss=\"warp\") #Weighted Approximate Rank Pairwise, \n",
    "                            #crear recomendaciones para el usuario con perfiles similares\n",
    "    "
   ]
  },
  {
   "cell_type": "code",
   "execution_count": 66,
   "metadata": {},
   "outputs": [
    {
     "data": {
      "text/plain": [
       "<lightfm.lightfm.LightFM at 0x2a093c16470>"
      ]
     },
     "execution_count": 66,
     "metadata": {},
     "output_type": "execute_result"
    }
   ],
   "source": [
    "#Entrenamos el modelo\n",
    "modelo.fit(datos[\"train\"],epochs=30,num_threads=2)"
   ]
  },
  {
   "cell_type": "code",
   "execution_count": 111,
   "metadata": {},
   "outputs": [],
   "source": [
    "def recomendaciones(modelo, datos, id_usuarios):\n",
    "    #Usaremos el nusuarios y peliculas para entrenar el modelo\n",
    "    nUsuarios,nPelis = datos[\"train\"].shape\n",
    "    \n",
    "    #ahora crearemos una recomendacion por cada usario que pasemos\n",
    "    for id_usuario in id_usuarios:\n",
    "        #usaremos las peliculas que ya les gustan\n",
    "        peliculasQueLesGustan = datos[\"item_labels\"][datos[\"train\"].tocsr()[id_usuario].indices]\n",
    "        #Predicciones de peliculas que le gustarian y guardamos la puntuacion\n",
    "        puntuacionPeli = modelo.predict(id_usuario,np.arange(nPelis))\n",
    "        #Las ordenamos dando prioridad a las que mas le gustarian primero\n",
    "        pelisTop = datos[\"item_labels\"][np.argsort(-puntuacionPeli)]\n",
    "        \n",
    "        #vamos a visualizar los datos\n",
    "        print(\"Usuario %s\" % id_usuario) \n",
    "        print(\"Peliculas que le gustan:\")\n",
    "        for i in peliculasQueLesGustan[:3]: #top3\n",
    "            print(\"          %s\" % i)\n",
    "            \n",
    "        print(\"Peliculas Recomendadas:\")\n",
    "        \n",
    "        for i in pelisTop[:3]: #top3\n",
    "            # Compruebo que no se repita con una de las que ya le gustan\n",
    "            if i in peliculasQueLesGustan[:3]:\n",
    "                   # print('         Repetida')\n",
    "                    cuarta = str(peliculasQueLesGustan[4])\n",
    "                    print(\"          \" + cuarta)\n",
    "            else:\n",
    "                    print(\"          %s\" % i)\n",
    "                    \n",
    "                "
   ]
  },
  {
   "cell_type": "code",
   "execution_count": 112,
   "metadata": {},
   "outputs": [
    {
     "name": "stdout",
     "output_type": "stream",
     "text": [
      "Usuario 432\n",
      "Peliculas que le gustan:\n",
      "          Usual Suspects, The (1995)\n",
      "          Three Colors: Red (1994)\n",
      "          Big Night (1996)\n",
      "Peliculas Recomendadas:\n",
      "          Fargo (1996)\n",
      "          Godfather, The (1972)\n",
      "          L.A. Confidential (1997)\n",
      "Usuario 26\n",
      "Peliculas que le gustan:\n",
      "          Dead Man Walking (1995)\n",
      "          Fargo (1996)\n",
      "          Frighteners, The (1996)\n",
      "Peliculas Recomendadas:\n",
      "          Trees Lounge (1996)\n",
      "          Trainspotting (1996)\n",
      "          Chasing Amy (1997)\n",
      "Usuario 69\n",
      "Peliculas que le gustan:\n",
      "          Toy Story (1995)\n",
      "          Babe (1995)\n",
      "          Rumble in the Bronx (1995)\n",
      "Peliculas Recomendadas:\n",
      "          Raiders of the Lost Ark (1981)\n",
      "          Star Wars (1977)\n",
      "          Empire Strikes Back, The (1980)\n",
      "Usuario 255\n",
      "Peliculas que le gustan:\n",
      "          Toy Story (1995)\n",
      "          GoldenEye (1995)\n",
      "          Get Shorty (1995)\n",
      "Peliculas Recomendadas:\n",
      "          Independence Day (ID4) (1996)\n",
      "          Rock, The (1996)\n",
      "          Ransom (1996)\n",
      "Usuario 243\n",
      "Peliculas que le gustan:\n",
      "          Toy Story (1995)\n",
      "          Four Rooms (1995)\n",
      "          Twelve Monkeys (1995)\n",
      "Peliculas Recomendadas:\n",
      "          Silence of the Lambs, The (1991)\n",
      "          Pulp Fiction (1994)\n",
      "          Usual Suspects, The (1995)\n"
     ]
    }
   ],
   "source": [
    "recomendaciones(modelo,datos,[432,26,69,255,243]) #le paso 5 id de usuarios al azar"
   ]
  },
  {
   "cell_type": "code",
   "execution_count": null,
   "metadata": {},
   "outputs": [],
   "source": []
  }
 ],
 "metadata": {
  "kernelspec": {
   "display_name": "Python 3",
   "language": "python",
   "name": "python3"
  },
  "language_info": {
   "codemirror_mode": {
    "name": "ipython",
    "version": 3
   },
   "file_extension": ".py",
   "mimetype": "text/x-python",
   "name": "python",
   "nbconvert_exporter": "python",
   "pygments_lexer": "ipython3",
   "version": "3.6.5"
  }
 },
 "nbformat": 4,
 "nbformat_minor": 2
}
